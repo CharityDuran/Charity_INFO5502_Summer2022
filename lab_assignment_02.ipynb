{
  "cells": [
    {
      "cell_type": "markdown",
      "metadata": {
        "id": "view-in-github",
        "colab_type": "text"
      },
      "source": [
        "<a href=\"https://colab.research.google.com/github/CharityDuran/Charity_INFO5502_Summer2022/blob/main/lab_assignment_02.ipynb\" target=\"_parent\"><img src=\"https://colab.research.google.com/assets/colab-badge.svg\" alt=\"Open In Colab\"/></a>"
      ]
    },
    {
      "cell_type": "markdown",
      "metadata": {
        "id": "Ryk8D1Q4Wsrp"
      },
      "source": [
        "# **The second Lab-assignment (07/19/2022 11:59'AM' - 07/22/2022 11:59PM, 50 points in total)**"
      ]
    },
    {
      "cell_type": "markdown",
      "metadata": {
        "id": "90_NR8c5XGWc"
      },
      "source": [
        "# Question 1\n",
        "\n",
        "(5 points). Write a Python program to generate 12 random numbers between 1 and 100. Sort the list of numbers in ascending order and print it out. Sort the list of numbers in descending order and print it out. Calculate the average for the group and print it out."
      ]
    },
    {
      "cell_type": "code",
      "execution_count": 6,
      "metadata": {
        "colab": {
          "base_uri": "https://localhost:8080/"
        },
        "id": "5QX6bJjGWXY9",
        "outputId": "0cd760bb-4c91-4592-a28c-a570e1c6772d"
      },
      "outputs": [
        {
          "output_type": "stream",
          "name": "stdout",
          "text": [
            "[55, 44, 9, 18, 58, 40, 25, 42, 10, 23, 30]\n",
            "[9, 10, 18, 23, 25, 30, 40, 42, 44, 55, 58]\n",
            "[58, 55, 44, 42, 40, 30, 25, 23, 18, 10, 9]\n",
            "32.18181818181818\n"
          ]
        }
      ],
      "source": [
        "# Your code here\n",
        "#generate random list using random.randint function\n",
        "#print list\n",
        "#sort list by asending then desending using sort function print list\n",
        "#average list and print value\n",
        "import random\n",
        "randomlist = []\n",
        "for i in range(0,11):\n",
        "  n = random.randint(1,100)\n",
        "  randomlist.append(n)\n",
        "print(randomlist)\n",
        "asend_list=randomlist\n",
        "asend_list.sort()\n",
        "print(asend_list)\n",
        "desend_list=randomlist\n",
        "desend_list.sort(reverse=True)\n",
        "print(desend_list)\n",
        "average=sum(randomlist)/len(randomlist)\n",
        "print(average)\n"
      ]
    },
    {
      "cell_type": "markdown",
      "metadata": {
        "id": "CmFoI4jDS9nx"
      },
      "source": [
        "# Question 2 \n",
        "\n",
        "(5 points). The formula that describes the volume V of a sphere with radius r is the following:\n",
        "\n",
        "$ V=\\frac{4}{3}\\ast\\ \\pi\\ast\\ r^3 $\n",
        "\n",
        "Write a program to calculate the value of V when r is in the range of 1–10. Output the result in the following format:\n",
        "\n",
        "\tr\tV\n",
        "\t1\t…\n",
        "\t2\t…\n",
        "\t3\t…\n"
      ]
    },
    {
      "cell_type": "code",
      "execution_count": 78,
      "metadata": {
        "id": "pEyqeioAT95b",
        "colab": {
          "base_uri": "https://localhost:8080/"
        },
        "outputId": "0b1615c0-a537-4890-fb35-c4d20bacf90d"
      },
      "outputs": [
        {
          "output_type": "stream",
          "name": "stdout",
          "text": [
            "r\tV\n",
            "1 4.1887902047863905\n",
            "2 8.377580409572781\n",
            "3 12.566370614359172\n",
            "4 16.755160819145562\n",
            "5 20.94395102393195\n",
            "6 25.132741228718345\n",
            "7 29.321531433504735\n",
            "8 33.510321638291124\n",
            "9 37.69911184307752\n",
            "10 41.8879020478639\n"
          ]
        }
      ],
      "source": [
        "# Your code here\n",
        "#print header\n",
        "#define pi\n",
        "#write for loop to calculate Volume for value of r ranging from 1 to 10\n",
        "#print the value of r and V\n",
        "print('r\\tV')\n",
        "pi=3.1415926535897931\n",
        "for r in range(1,11):\n",
        "  v=(4/3)*pi*r\n",
        "  print(r,v)\n",
        "\n"
      ]
    },
    {
      "cell_type": "markdown",
      "metadata": {
        "id": "z3tBE7E-Xn5X"
      },
      "source": [
        "# Question 3\n",
        "\n",
        "(40 points). In the field of Data Science, data is often formatted as a comma-delimited (CSV) file, where each line in a file corresponds to a field's value. Refer to Chapter 9 (p. 106) for more information on comma-delimited files. To answer this question, you will need to download the file [lab_assignment_02_denton_housing.csv](https://github.com/suthapalliuday/INFO5502-Summer2022/blob/main/datasets/lab_assignment_02_denton_housing.csv) included with this assignment. The file [lab_assignment_02_denton_housing.csv](https://github.com/suthapalliuday/INFO5502-Summer2022/blob/main/datasets/lab_assignment_02_denton_housing.csv) contains statistics about housing in the city of Denton from 2008 to 2014. Write a program to implement the following questions.\n",
        "\n",
        "(1) (10 pts) Calculate the difference in the number of Occupied Housing Units from year to year and print it. The difference must be calculated for the consecutive years such as 2008-2009, 2009-2010 etc. Finally, print the values in the ascending order.\n",
        "\n",
        "(2) (10 pts) For all the years, calculate the percentage of housing units which are vacant an occupied. Print the results in the following format:\n",
        "\n",
        "Year Vacant Housing Units Occupied Housing Units\n",
        "\n",
        "    2008  30%   70%                          \n",
        "\t2009 ----- -----\n",
        "\t2010 ----- -----\n",
        "    2011 ----- -----\n",
        "\t2012 ----- -----\n",
        "    2013 ----- -----\n",
        "\t2014 ----- -----\n",
        "  \n",
        "  \n",
        "\n",
        "(3) (10 pts) Calculate and print the valued and years in which the highest number of housing units were vacant and occupied. Print the results in the following format:  \n",
        "\n",
        "                              Year\tValue\n",
        "\tVacant Housing Units\t  -----   -----\n",
        "\tOccupied Housing Units\t-----   -----\n",
        "\n",
        "(4) (10 pts) Calculate the harmonic mean of the total housing units and print it out. You can find the information about harmonic mean here: https://ncalculators.com/statistics/harmonic-mean-calculator.htm"
      ]
    },
    {
      "cell_type": "code",
      "execution_count": 20,
      "metadata": {
        "id": "lqGYuHBhcsRH",
        "colab": {
          "base_uri": "https://localhost:8080/",
          "height": 269
        },
        "outputId": "9baaed45-40d1-4664-c9aa-78f20d6cb601"
      },
      "outputs": [
        {
          "output_type": "execute_result",
          "data": {
            "text/plain": [
              "   year  difference\n",
              "0  2008         NaN\n",
              "1  2009      -795.0\n",
              "2  2010      5091.0\n",
              "3  2011      -303.0\n",
              "4  2012      1404.0\n",
              "5  2013      1565.0\n",
              "6  2014      2622.0"
            ],
            "text/html": [
              "\n",
              "  <div id=\"df-868908c9-4c35-4360-80c1-7cb665d25435\">\n",
              "    <div class=\"colab-df-container\">\n",
              "      <div>\n",
              "<style scoped>\n",
              "    .dataframe tbody tr th:only-of-type {\n",
              "        vertical-align: middle;\n",
              "    }\n",
              "\n",
              "    .dataframe tbody tr th {\n",
              "        vertical-align: top;\n",
              "    }\n",
              "\n",
              "    .dataframe thead th {\n",
              "        text-align: right;\n",
              "    }\n",
              "</style>\n",
              "<table border=\"1\" class=\"dataframe\">\n",
              "  <thead>\n",
              "    <tr style=\"text-align: right;\">\n",
              "      <th></th>\n",
              "      <th>year</th>\n",
              "      <th>difference</th>\n",
              "    </tr>\n",
              "  </thead>\n",
              "  <tbody>\n",
              "    <tr>\n",
              "      <th>0</th>\n",
              "      <td>2008</td>\n",
              "      <td>NaN</td>\n",
              "    </tr>\n",
              "    <tr>\n",
              "      <th>1</th>\n",
              "      <td>2009</td>\n",
              "      <td>-795.0</td>\n",
              "    </tr>\n",
              "    <tr>\n",
              "      <th>2</th>\n",
              "      <td>2010</td>\n",
              "      <td>5091.0</td>\n",
              "    </tr>\n",
              "    <tr>\n",
              "      <th>3</th>\n",
              "      <td>2011</td>\n",
              "      <td>-303.0</td>\n",
              "    </tr>\n",
              "    <tr>\n",
              "      <th>4</th>\n",
              "      <td>2012</td>\n",
              "      <td>1404.0</td>\n",
              "    </tr>\n",
              "    <tr>\n",
              "      <th>5</th>\n",
              "      <td>2013</td>\n",
              "      <td>1565.0</td>\n",
              "    </tr>\n",
              "    <tr>\n",
              "      <th>6</th>\n",
              "      <td>2014</td>\n",
              "      <td>2622.0</td>\n",
              "    </tr>\n",
              "  </tbody>\n",
              "</table>\n",
              "</div>\n",
              "      <button class=\"colab-df-convert\" onclick=\"convertToInteractive('df-868908c9-4c35-4360-80c1-7cb665d25435')\"\n",
              "              title=\"Convert this dataframe to an interactive table.\"\n",
              "              style=\"display:none;\">\n",
              "        \n",
              "  <svg xmlns=\"http://www.w3.org/2000/svg\" height=\"24px\"viewBox=\"0 0 24 24\"\n",
              "       width=\"24px\">\n",
              "    <path d=\"M0 0h24v24H0V0z\" fill=\"none\"/>\n",
              "    <path d=\"M18.56 5.44l.94 2.06.94-2.06 2.06-.94-2.06-.94-.94-2.06-.94 2.06-2.06.94zm-11 1L8.5 8.5l.94-2.06 2.06-.94-2.06-.94L8.5 2.5l-.94 2.06-2.06.94zm10 10l.94 2.06.94-2.06 2.06-.94-2.06-.94-.94-2.06-.94 2.06-2.06.94z\"/><path d=\"M17.41 7.96l-1.37-1.37c-.4-.4-.92-.59-1.43-.59-.52 0-1.04.2-1.43.59L10.3 9.45l-7.72 7.72c-.78.78-.78 2.05 0 2.83L4 21.41c.39.39.9.59 1.41.59.51 0 1.02-.2 1.41-.59l7.78-7.78 2.81-2.81c.8-.78.8-2.07 0-2.86zM5.41 20L4 18.59l7.72-7.72 1.47 1.35L5.41 20z\"/>\n",
              "  </svg>\n",
              "      </button>\n",
              "      \n",
              "  <style>\n",
              "    .colab-df-container {\n",
              "      display:flex;\n",
              "      flex-wrap:wrap;\n",
              "      gap: 12px;\n",
              "    }\n",
              "\n",
              "    .colab-df-convert {\n",
              "      background-color: #E8F0FE;\n",
              "      border: none;\n",
              "      border-radius: 50%;\n",
              "      cursor: pointer;\n",
              "      display: none;\n",
              "      fill: #1967D2;\n",
              "      height: 32px;\n",
              "      padding: 0 0 0 0;\n",
              "      width: 32px;\n",
              "    }\n",
              "\n",
              "    .colab-df-convert:hover {\n",
              "      background-color: #E2EBFA;\n",
              "      box-shadow: 0px 1px 2px rgba(60, 64, 67, 0.3), 0px 1px 3px 1px rgba(60, 64, 67, 0.15);\n",
              "      fill: #174EA6;\n",
              "    }\n",
              "\n",
              "    [theme=dark] .colab-df-convert {\n",
              "      background-color: #3B4455;\n",
              "      fill: #D2E3FC;\n",
              "    }\n",
              "\n",
              "    [theme=dark] .colab-df-convert:hover {\n",
              "      background-color: #434B5C;\n",
              "      box-shadow: 0px 1px 3px 1px rgba(0, 0, 0, 0.15);\n",
              "      filter: drop-shadow(0px 1px 2px rgba(0, 0, 0, 0.3));\n",
              "      fill: #FFFFFF;\n",
              "    }\n",
              "  </style>\n",
              "\n",
              "      <script>\n",
              "        const buttonEl =\n",
              "          document.querySelector('#df-868908c9-4c35-4360-80c1-7cb665d25435 button.colab-df-convert');\n",
              "        buttonEl.style.display =\n",
              "          google.colab.kernel.accessAllowed ? 'block' : 'none';\n",
              "\n",
              "        async function convertToInteractive(key) {\n",
              "          const element = document.querySelector('#df-868908c9-4c35-4360-80c1-7cb665d25435');\n",
              "          const dataTable =\n",
              "            await google.colab.kernel.invokeFunction('convertToInteractive',\n",
              "                                                     [key], {});\n",
              "          if (!dataTable) return;\n",
              "\n",
              "          const docLinkHtml = 'Like what you see? Visit the ' +\n",
              "            '<a target=\"_blank\" href=https://colab.research.google.com/notebooks/data_table.ipynb>data table notebook</a>'\n",
              "            + ' to learn more about interactive tables.';\n",
              "          element.innerHTML = '';\n",
              "          dataTable['output_type'] = 'display_data';\n",
              "          await google.colab.output.renderOutput(dataTable, element);\n",
              "          const docLink = document.createElement('div');\n",
              "          docLink.innerHTML = docLinkHtml;\n",
              "          element.appendChild(docLink);\n",
              "        }\n",
              "      </script>\n",
              "    </div>\n",
              "  </div>\n",
              "  "
            ]
          },
          "metadata": {},
          "execution_count": 20
        }
      ],
      "source": [
        "# Your code here\n",
        "#import file\n",
        "#from google.colab import files\n",
        "#uploaded = files.upload()\n",
        "\n",
        "import pandas as pd\n",
        "import statistics\n",
        "#read file\n",
        "denton_house=pd.read_csv('lab_assignment_02_denton_housing.csv')\n",
        "denton_house.head()\n",
        "\n",
        "#Calculate the difference in the number of Occupied Housing Units from year to year and print it.\n",
        "#The difference must be calculated for the consecutive years such as 2008-2009, 2009-2010 etc. Finally, print the values in the ascending order.\n",
        "#create new data frame for with occupied housing units sorted by year\n",
        "o_houses = denton_house[denton_house['title_field'] == 'Occupied Housing Units'].sort_values(by=['year'])\n",
        "#reset the index\n",
        "o_houses=o_houses.reset_index()\n",
        "#calculate difference for year over year, create data frame to output only year and difference\n",
        "o_houses['difference']=o_houses['value'].diff(1)\n",
        "o_houses=o_houses[['year','difference']]\n",
        "o_houses\n"
      ]
    },
    {
      "cell_type": "code",
      "source": [
        "# For all the years, calculate the percentage of housing units which are vacant an occupied. Print the results in the following format:\n",
        "denton_house=pd.read_csv('lab_assignment_02_denton_housing.csv')\n",
        "denton_house.head()\n",
        "all_years = denton_house['year'].unique()\n",
        "all_years = pd.DataFrame(all_years, columns =['year'])\n",
        "\n",
        "o_houses = denton_house[denton_house['title_field'] == 'Occupied Housing Units'].sort_values(by=['year'])\n",
        "o_houses=o_houses.reset_index()\n",
        "o_houses = o_houses[['year','value']]\n",
        "o_houses.columns=['year','Occupied Housing Units']\n",
        "\n",
        "v_houses = denton_house[denton_house['title_field'] == 'Vacant Housing Units'].sort_values(by=['year'])\n",
        "v_houses=v_houses.reset_index()\n",
        "v_houses = v_houses[['year','value']]\n",
        "v_houses.columns=['year','Vacant Housing Units']\n",
        "v_houses\n",
        "\n",
        "all_houses = pd.merge(all_years,o_houses, on='year')\n",
        "all_houses = pd.merge(all_houses,v_houses, on='year')\n",
        "all_houses['Percent Occupied']= (all_houses['Occupied Housing Units']/(all_houses['Occupied Housing Units']+all_houses['Vacant Housing Units']))\n",
        "all_houses['Percent Occupied']=pd.Series([\"{0:.2f}%\".format(val * 100) for val in all_houses['Percent Occupied']], index = all_houses.index)\n",
        "all_houses['Percent Vacant']= (all_houses['Vacant Housing Units']/(all_houses['Occupied Housing Units']+all_houses['Vacant Housing Units']))\n",
        "all_houses['Percent Vacant']=pd.Series([\"{0:.2f}%\".format(val * 100) for val in all_houses['Percent Vacant']], index = all_houses.index)\n",
        "\n",
        "print(all_houses[['year','Percent Occupied','Percent Vacant']])\n",
        "\n",
        "\n",
        "\n"
      ],
      "metadata": {
        "colab": {
          "base_uri": "https://localhost:8080/"
        },
        "id": "wrsryzZmhiIl",
        "outputId": "42a238f7-6b55-4f7f-9a20-1bf7304bce29"
      },
      "execution_count": 86,
      "outputs": [
        {
          "output_type": "stream",
          "name": "stdout",
          "text": [
            "   year Percent Occupied Percent Vacant\n",
            "0  2014           94.27%          5.73%\n",
            "1  2013           91.20%          8.80%\n",
            "2  2012           93.32%          6.68%\n",
            "3  2011           90.62%          9.38%\n",
            "4  2010           91.86%          8.14%\n",
            "5  2009           90.93%          9.07%\n",
            "6  2008           89.12%         10.88%\n"
          ]
        }
      ]
    },
    {
      "cell_type": "code",
      "source": [
        "#(3) (10 pts) Calculate and print the valued and years in which the highest number of housing units were vacant and occupied. \n",
        "denton_house=pd.read_csv('lab_assignment_02_denton_housing.csv')\n",
        "#find the maximum values for occupied and vacant house\n",
        "max_o_houses = max(denton_house [denton_house['title_field']=='Occupied Housing Units'].value)\n",
        "o_houses= o_houses[o_houses['value']==max_o_houses]\n",
        "max_v_houses = max(denton_house [denton_house['title_field']=='Vacant Housing Units'].value)\n",
        "v_houses= v_houses[v_houses['value']==max_v_houses]\n",
        "#print maximum values\n",
        "print('Occupied Housing Units',o_houses)\n",
        "print('Vacant Housing Units',v_houses)\n",
        "\n",
        "\n"
      ],
      "metadata": {
        "colab": {
          "base_uri": "https://localhost:8080/"
        },
        "id": "WjUtrHtu2ajr",
        "outputId": "81803606-a562-4dab-9447-6c679587c315"
      },
      "execution_count": 112,
      "outputs": [
        {
          "output_type": "stream",
          "name": "stdout",
          "text": [
            "Occupied Housing Units    year             title_field  value\n",
            "2  2014  Occupied Housing Units  46295\n",
            "Vacant Housing Units     year           title_field  value\n",
            "19  2008  Vacant Housing Units   4483\n"
          ]
        }
      ]
    },
    {
      "cell_type": "code",
      "source": [
        "#Calculate the harmonic mean of the total housing units and print it out.\n",
        "#harmonic mean = n/(1/x1+1/x2+...1/xi)\n",
        "from scipy import stats\n",
        "denton_house=pd.read_csv('lab_assignment_02_denton_housing.csv')\n",
        "total_houses=denton_house[denton_house['title_field'] == 'Total Housing Units'].sort_values(by=['year'])\n",
        "total_houses\n",
        "stats.hmean(total_houses.loc[:,'value'])\n",
        "\n",
        "\n"
      ],
      "metadata": {
        "colab": {
          "base_uri": "https://localhost:8080/"
        },
        "id": "OXOCMv6MAxFQ",
        "outputId": "7c7bdcc9-07fa-4398-e580-6995b02abc03"
      },
      "execution_count": 119,
      "outputs": [
        {
          "output_type": "execute_result",
          "data": {
            "text/plain": [
              "44398.28543969185"
            ]
          },
          "metadata": {},
          "execution_count": 119
        }
      ]
    }
  ],
  "metadata": {
    "colab": {
      "collapsed_sections": [],
      "name": "lab_assignment_02.ipynb",
      "provenance": [],
      "include_colab_link": true
    },
    "kernelspec": {
      "display_name": "Python 3 (ipykernel)",
      "language": "python",
      "name": "python3"
    },
    "language_info": {
      "codemirror_mode": {
        "name": "ipython",
        "version": 3
      },
      "file_extension": ".py",
      "mimetype": "text/x-python",
      "name": "python",
      "nbconvert_exporter": "python",
      "pygments_lexer": "ipython3",
      "version": "3.9.12"
    }
  },
  "nbformat": 4,
  "nbformat_minor": 0
}