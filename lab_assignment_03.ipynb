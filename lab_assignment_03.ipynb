{
  "cells": [
    {
      "cell_type": "markdown",
      "metadata": {
        "id": "view-in-github",
        "colab_type": "text"
      },
      "source": [
        "<a href=\"https://colab.research.google.com/github/CharityDuran/Charity_INFO5502_Summer2022/blob/main/lab_assignment_03.ipynb\" target=\"_parent\"><img src=\"https://colab.research.google.com/assets/colab-badge.svg\" alt=\"Open In Colab\"/></a>"
      ]
    },
    {
      "cell_type": "markdown",
      "metadata": {
        "id": "bAPvo9CWTEqE"
      },
      "source": [
        "## The third Lab-assignment (07/22/2022 11:59'AM' - 07/26/2022 11:59PM, 50 points in total)"
      ]
    },
    {
      "cell_type": "markdown",
      "metadata": {
        "id": "AnI3-f1xTEqG"
      },
      "source": [
        "The purpose of this exercise is to understand users' information needs, then collect data from different sources for analysis."
      ]
    },
    {
      "cell_type": "markdown",
      "metadata": {
        "id": "Ac5O8kQ2TEqH"
      },
      "source": [
        "Question 1 (10 points). Fomulate your domain problem: Describe an interesting research question (or practical question) you have in mind, what kind of data should be collected to answer the question(s)? How many data needed for the analysis? The detail steps for collecting and save the data. "
      ]
    },
    {
      "cell_type": "code",
      "execution_count": null,
      "metadata": {
        "id": "sEPpJA9ETEqH"
      },
      "outputs": [],
      "source": [
        "# Your answer here (no code for this question, write down your answer as detail as possible for the above questions):\n",
        "\n",
        "'''\n",
        "Please write you answer here:\n",
        "How much has the climate changed since weather (temperature and precipitation) has been recorded?  What impact has this change had on U.S. food production?\n",
        "1.  Weather data needs to be collected - average, low, high temperatures and precipitaiton amounts - past 100 years for each state in the U.S.\n",
        "2. Download historical weather data from NOAA https://www.weather.gov/lot/obtain_climate\n",
        "3. Download US crop prodution over the past 100 years    https://www.nass.usda.gov/Publications/Todays_Reports/reports/croptr19.pdf and https://www.nass.usda.gov/Charts_and_Maps/Field_Crops/index.php\n",
        "\n",
        "\n",
        "\n",
        "\n",
        "'''"
      ]
    },
    {
      "cell_type": "markdown",
      "metadata": {
        "id": "eKFOoAKJTEqI"
      },
      "source": [
        "Question 2 (30 points). Collect your data to answer the research problem: Write python code to collect 1000 data samples you discussed above."
      ]
    },
    {
      "cell_type": "code",
      "execution_count": 6,
      "metadata": {
        "id": "pu_v_WF6TEqI",
        "colab": {
          "base_uri": "https://localhost:8080/"
        },
        "outputId": "e212c423-6640-4ca7-f018-d515f0c4d796"
      },
      "outputs": [
        {
          "output_type": "stream",
          "name": "stdout",
          "text": [
            "working on year 2012\n",
            "working on year 2013\n",
            "working on year 2014\n",
            "working on year 2015\n",
            "working on year 2016\n",
            "working on year 2017\n",
            "working on year 2018\n",
            "working on year 2019\n",
            "working on year 2020\n",
            "working on year 2021\n"
          ]
        }
      ],
      "source": [
        "# You code here (Please add comments in the code):\n",
        "\n",
        "#import needed modules\n",
        "import requests\n",
        "import pandas as pd\n",
        "import json\n",
        "import numpy as np\n",
        "from datetime import datetime\n",
        "\n",
        "#add the access token from NOAA\n",
        "Token = 'kQTtTnnZXQWQEqbiXYltChsVXyQCrfny'\n",
        "\n",
        "#\tFORT WORTH ALLIANCE AIRPORT, TX US\n",
        "station_id = 'GHCND:USW00053909'\n",
        "\n",
        "#initialize lists to store data\n",
        "dates_temp = []\n",
        "dates_prcp = []\n",
        "temps = []\n",
        "prcp = []\n",
        "\n",
        "#for each year from 2012-2022 ...\n",
        "for year in range(2012, 2022):\n",
        "    year = str(year)\n",
        "    print('working on year '+year)\n",
        "    \n",
        "    #make the api call\n",
        "    r = requests.get('https://www.ncdc.noaa.gov/cdo-web/api/v2/data?datasetid=GHCND&datatypeid=TAVG&limit=1000&stationid=GHCND:USW00053909&startdate='+year+'-01-01&enddate='+year+'-12-31', headers={'token':Token})\n",
        "    #load the api response as a json\n",
        "    d = json.loads(r.text)\n",
        "    #get all items in the response which are maximum temperature readings\n",
        "    max_temps = [item for item in d if item['datatype']=='TMAX']\n",
        "    #get the date field from all maximum temperature readings\n",
        "    dates_temp += [item['date'] for item in max_temps]\n",
        "    #get the actual maximum temperature from all maximum temperature readings\n",
        "    temps += [item['value'] for item in max_temps]\n",
        "\n",
        "#initialize dataframe\n",
        "df_temp = pd.DataFrame()\n",
        "\n",
        "#populate date and average temperature fields \n",
        "df_temp['date'] = [datetime.strptime(d, \"%Y-%m-%dT%H:%M:%S\") for d in dates_temp]\n",
        "\n",
        "#export to csv\n",
        "df_temp.to_csv('Fort_Worth_temps.csv')\n",
        "\n",
        "\n",
        "\n",
        "\n"
      ]
    },
    {
      "cell_type": "markdown",
      "metadata": {
        "id": "o9Cm8dBcTEqI"
      },
      "source": [
        "Question 3 (10 points). Understand the data quality: Search a second hand dataset (any dataset) from kaggle or other websites. Describe the data quality problem of the dataset and explain your strtegy to clean the data."
      ]
    },
    {
      "cell_type": "code",
      "execution_count": null,
      "metadata": {
        "id": "12t6FudITEqJ"
      },
      "outputs": [],
      "source": [
        "# Your answer here (no code for this question, write down your answer as detail as possible for the above questions):\n",
        "'''\n",
        "\n",
        "Please write you answer here:\n",
        "\n",
        "The dataset I reviewed is https://www.kaggle.com/datasets/devansodariya/student-performance-data\n",
        "Student Performance Data was obtained in a survey of students' math course in secondary school.\n",
        "It consists of 33 Column\n",
        "Dataset Contains Features like\n",
        "\n",
        "school ID\n",
        "gender\n",
        "age\n",
        "size of family\n",
        "Father education\n",
        "Mother education\n",
        "Occupation of Father and Mother\n",
        "Family Relation\n",
        "Health\n",
        "Grades\n",
        "\n",
        "Some of the data quality issues are listed below:\n",
        "- Unbalanced sampling - A way to deal with unbalanced data is to resample the data.  You can either undersample the overrepresented case or vise versa.  This allows you to have a more balanced dataset\n",
        "-Age and grades may are not the same scale.  A factor may need to be applied to esure that accurate comparisons can be made\n",
        "-size of family needs to be chaned to an ordinal value so the distribution can be undestood.\n",
        "\n",
        "\n",
        "\n",
        "'''"
      ]
    }
  ],
  "metadata": {
    "kernelspec": {
      "display_name": "Python 3 (ipykernel)",
      "language": "python",
      "name": "python3"
    },
    "language_info": {
      "codemirror_mode": {
        "name": "ipython",
        "version": 3
      },
      "file_extension": ".py",
      "mimetype": "text/x-python",
      "name": "python",
      "nbconvert_exporter": "python",
      "pygments_lexer": "ipython3",
      "version": "3.9.12"
    },
    "vscode": {
      "interpreter": {
        "hash": "5c6a7f839effdddf35473dacbb9a8184e57ebbba5133cab03b12e4f28d4f0d0f"
      }
    },
    "colab": {
      "name": "lab_assignment_03.ipynb",
      "provenance": [],
      "include_colab_link": true
    }
  },
  "nbformat": 4,
  "nbformat_minor": 0
}