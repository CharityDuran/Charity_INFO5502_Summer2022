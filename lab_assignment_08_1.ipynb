{
  "cells": [
    {
      "cell_type": "markdown",
      "metadata": {
        "id": "view-in-github",
        "colab_type": "text"
      },
      "source": [
        "<a href=\"https://colab.research.google.com/github/CharityDuran/Charity_INFO5502_Summer2022/blob/main/lab_assignment_08_1.ipynb\" target=\"_parent\"><img src=\"https://colab.research.google.com/assets/colab-badge.svg\" alt=\"Open In Colab\"/></a>"
      ]
    },
    {
      "cell_type": "markdown",
      "metadata": {
        "id": "PHISKCDdaD42"
      },
      "source": [
        "## The Eighth Lab-assignment (08/09/2022 11:59'AM' - 08/12/2022 11:59PM, 50 points in total)"
      ]
    },
    {
      "cell_type": "markdown",
      "metadata": {
        "id": "-wA1dQPLaD46"
      },
      "source": [
        "The purpose of this assignment is to practice different Hypothesis Testing and annotation quality evaluation."
      ]
    },
    {
      "cell_type": "markdown",
      "metadata": {
        "id": "jol96MnpaD46"
      },
      "source": [
        "### Question 1 (10 points) \n",
        "\n",
        "During the 1980s, the general consensus is that about 5% of the nation’s children had autism. Some claimed that increases certain chemicals in the environment has led to an increase in autism. \n",
        "\n",
        "(1) Write an appropriate hypothesis test for this situation (5 points).  \n",
        "\n",
        "(2) Give an appropriate test for this hypothesis, stating what are the necessary conditions for performing the test (5 points). \n",
        "\n",
        "(3) A recent study examined 384 children and found that 46 showed signs of autism. Perform a test of the hypothesis and state the p-value (5 points). "
      ]
    },
    {
      "cell_type": "code",
      "execution_count": null,
      "metadata": {
        "id": "cqWDMVgTaD47"
      },
      "outputs": [],
      "source": [
        "# You answer here\n",
        "#1.  Hypothesis test is Ho: p=0.05\n",
        "#                       Ha: p>0.05\n",
        "#2. Conduct a one sample test of proportions using the z-statistic\n",
        "#z=p-po / sqrt (po(1-po)/n)\n",
        "#x= sample mean\n",
        "#μ = population mean\n",
        "#σ / √n = population standard deviation\n",
        "# for a 95% CI the z=1.96\n"
      ]
    },
    {
      "cell_type": "code",
      "execution_count": null,
      "metadata": {
        "id": "oHAto8m6aD48",
        "colab": {
          "base_uri": "https://localhost:8080/"
        },
        "outputId": "6a27022a-21bb-4075-d5bd-1688608aa42b"
      },
      "outputs": [
        {
          "output_type": "stream",
          "name": "stdout",
          "text": [
            "22.944637567528115\n"
          ]
        }
      ],
      "source": [
        "# your code here\n",
        "import math\n",
        "sample = 46/384\n",
        "z_stat=(sample-0.5)/math.sqrt((0.5*(1-0.5))/384)\n",
        "print(z_stat)\n",
        "\n",
        "\n",
        "\n",
        "\n"
      ]
    },
    {
      "cell_type": "markdown",
      "metadata": {
        "id": "yQrWb5NpaD48"
      },
      "source": [
        "### Question 2 (10 points) \n",
        "In this problem,we will examine the sugar content of several national brands of cereals, here measured as a percentage of weight.\n",
        "\n",
        "\n",
        "\n",
        "(1) Give a summary of these two datasets (5 points). \n",
        "\n",
        "(2) Create side-by-side boxplots and interpret what you see (5 points). \n",
        "\n",
        "(3) Use python to create a 95% confidence interval for the difference in mean sugar content and explain your result (5 points). "
      ]
    },
    {
      "cell_type": "code",
      "execution_count": 11,
      "metadata": {
        "id": "AHf-I09_aD49",
        "colab": {
          "base_uri": "https://localhost:8080/"
        },
        "outputId": "56674642-22f6-43ea-dcc2-250cf377a229"
      },
      "outputs": [
        {
          "output_type": "stream",
          "name": "stdout",
          "text": [
            "        childern\n",
            "count  19.000000\n",
            "mean   46.800000\n",
            "std     6.418376\n",
            "min    33.600000\n",
            "25%    43.650000\n",
            "50%    45.900000\n",
            "75%    50.350000\n",
            "max    60.300000\n",
            "               0\n",
            "count  26.000000\n",
            "mean   10.169231\n",
            "std     7.735827\n",
            "min     1.000000\n",
            "25%     4.175000\n",
            "50%     7.950000\n",
            "75%    15.775000\n",
            "max    30.200000\n"
          ]
        }
      ],
      "source": [
        "# You answer here\n",
        "import pandas as pd\n",
        "import matplotlib.pyplot as plt\n",
        "import seaborn as sns\n",
        "childern=[40.3,55.0,45.7,43.3,50.3,45.9,53.5,43.0,44.2,44,33.6,55.1,48.8,50.4,37.8,60.3,46.6,47.4,44.0]\n",
        "adult=[20.0,30.2,2.2,7.5,4.4,22.2,16.6,14.5,21.4,3.3,10.0,1.0,4.4,1.3,8.1,6.6,7.8,10.6,16.2,14.5,4.1,2.4,3.5,8.5,4.7,18.4]\n",
        "childern=pd.DataFrame(children)\n",
        "adult=pd.DataFrame(adult)\n",
        "print(childern.describe())\n",
        "print(adult.describe())\n",
        "\n",
        "\n",
        "\n"
      ]
    },
    {
      "cell_type": "code",
      "execution_count": 12,
      "metadata": {
        "id": "E-SylVoTaD4-",
        "colab": {
          "base_uri": "https://localhost:8080/",
          "height": 297
        },
        "outputId": "5327d56a-fcb6-4798-c986-81c07acc1cbe"
      },
      "outputs": [
        {
          "output_type": "display_data",
          "data": {
            "text/plain": [
              "<Figure size 432x288 with 1 Axes>"
            ],
            "image/png": "[encoded data removed]"
          },
          "metadata": {
            "needs_background": "light"
          }
        }
      ],
      "source": [
        "# your code here\n",
        "sns.boxplot(data=pd.concat([children,adult]))\n",
        "plt.tight_layout()\n",
        "plt.show()\n",
        "\n"
      ]
    },
    {
      "cell_type": "markdown",
      "metadata": {
        "id": "5ExF9BSgaD4-"
      },
      "source": [
        "### Question 3 (30 points) \n",
        "\n",
        "Cohen's kappa coefficient (κ) is a statistic that is used to measure inter-rater reliability (and also intra-rater reliability) for qualitative (categorical) items. It is generally thought to be a more robust measure than simple percent agreement calculation, as κ takes into account the possibility of the agreement occurring by chance. There is controversy surrounding Cohen's kappa due to the difficulty in interpreting indices of agreement. Some researchers have suggested that it is conceptually simpler to evaluate disagreement between items.\n",
        "\n",
        "A more detailed description of Kappa agreement can be found on wikipedia: https://en.wikipedia.org/wiki/Cohen%27s_kappa\n",
        "\n",
        "Here is the dataset we created for a text classification task: https://github.com/suthapalliuday/INFO5502-Summer2022/blob/main/datasets/lab08-dataset.csv\n",
        "\n",
        "The last three columns indicate the annotation on the same sentence by three students respectively. Based on this dataset, please calculate the Cohen's kappa and the Fleiss' kappa using their formulars (Python). Please don't use any existing packages for the implementation. "
      ]
    },
    {
      "cell_type": "code",
      "execution_count": null,
      "metadata": {
        "id": "kvue7SCjaD4_",
        "colab": {
          "base_uri": "https://localhost:8080/",
          "height": 235
        },
        "outputId": "dc295202-4217-4a4f-9809-0c404fbf83df"
      },
      "outputs": [
        {
          "output_type": "error",
          "ename": "AttributeError",
          "evalue": "ignored",
          "traceback": [
            "\u001b[0;31m---------------------------------------------------------------------------\u001b[0m",
            "\u001b[0;31mAttributeError\u001b[0m                            Traceback (most recent call last)",
            "\u001b[0;32m<ipython-input-24-32fb586548ae>\u001b[0m in \u001b[0;36m<module>\u001b[0;34m()\u001b[0m\n\u001b[1;32m      9\u001b[0m   \u001b[0;32melse\u001b[0m\u001b[0;34m:\u001b[0m\u001b[0;34m\u001b[0m\u001b[0;34m\u001b[0m\u001b[0m\n\u001b[1;32m     10\u001b[0m     \u001b[0mresult\u001b[0m\u001b[0;34m.\u001b[0m\u001b[0mappend\u001b[0m\u001b[0;34m(\u001b[0m\u001b[0;32mFalse\u001b[0m\u001b[0;34m)\u001b[0m\u001b[0;34m\u001b[0m\u001b[0;34m\u001b[0m\u001b[0m\n\u001b[0;32m---> 11\u001b[0;31m \u001b[0mresult\u001b[0m\u001b[0;34m.\u001b[0m\u001b[0mcolumns\u001b[0m\u001b[0;34m\u001b[0m\u001b[0;34m\u001b[0m\u001b[0m\n\u001b[0m\u001b[1;32m     12\u001b[0m \u001b[0;34m\u001b[0m\u001b[0m\n\u001b[1;32m     13\u001b[0m \u001b[0;34m\u001b[0m\u001b[0m\n",
            "\u001b[0;31mAttributeError\u001b[0m: 'list' object has no attribute 'columns'"
          ]
        }
      ],
      "source": [
        "# your code here\n",
        "import pandas as pd\n",
        "df = pd.read_csv('/content/lab08-dataset.csv')\n",
        "df.head\n",
        "result=[]\n",
        "for annotate in df:\n",
        "  if df['Annotation1'].equals(df['Annotation2']) and df['Annotation2'].equals(df['Annotation3']):\n",
        "    result.append(True)\n",
        "  else:\n",
        "    result.append(False)\n",
        "result=pd.Dataframe(result)\n",
        "\n",
        "\n",
        "\n",
        "\n",
        "\n",
        "\n"
      ]
    }
  ],
  "metadata": {
    "kernelspec": {
      "display_name": "Python 3 (ipykernel)",
      "language": "python",
      "name": "python3"
    },
    "language_info": {
      "codemirror_mode": {
        "name": "ipython",
        "version": 3
      },
      "file_extension": ".py",
      "mimetype": "text/x-python",
      "name": "python",
      "nbconvert_exporter": "python",
      "pygments_lexer": "ipython3",
      "version": "3.9.12"
    },
    "colab": {
      "name": "lab_assignment_08-1.ipynb",
      "provenance": [],
      "include_colab_link": true
    }
  },
  "nbformat": 4,
  "nbformat_minor": 0
}