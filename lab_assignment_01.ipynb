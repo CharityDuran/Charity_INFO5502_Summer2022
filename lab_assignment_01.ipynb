{
  "cells": [
    {
      "cell_type": "markdown",
      "metadata": {
        "id": "view-in-github",
        "colab_type": "text"
      },
      "source": [
        "<a href=\"https://colab.research.google.com/github/CharityDuran/Charity_INFO5502_Summer2022/blob/main/lab_assignment_01.ipynb\" target=\"_parent\"><img src=\"https://colab.research.google.com/assets/colab-badge.svg\" alt=\"Open In Colab\"/></a>"
      ]
    },
    {
      "cell_type": "markdown",
      "metadata": {
        "id": "DymRJbxDBCnf"
      },
      "source": [
        "# **The first Lab-assignment (07/15/2022 11:59'AM' to 7/19/2022 11:59PM, 50 points in total)**"
      ]
    },
    {
      "cell_type": "markdown",
      "metadata": {
        "id": "jJDe71iLB616"
      },
      "source": [
        "(1) Write a Python program to count the number of characters in a string. (6 points)\n",
        "\n",
        "Sample String : 'google.com', \n",
        "\n",
        "Expected Result : {'o': 3, 'g': 2, '.': 1, 'e': 1, 'l': 1, 'm': 1, 'c': 1}"
      ]
    },
    {
      "cell_type": "code",
      "execution_count": null,
      "metadata": {
        "colab": {
          "base_uri": "https://localhost:8080/"
        },
        "id": "MtKskTzbCLaU",
        "outputId": "3908b712-30c4-4ea3-fddc-8e908b168dc3"
      },
      "outputs": [
        {
          "output_type": "stream",
          "name": "stdout",
          "text": [
            "The number of charaters in google.com is :\n",
            " {'g': 2, 'o': 3, 'l': 1, 'e': 1, '.': 1, 'c': 1, 'm': 1}\n"
          ]
        }
      ],
      "source": [
        "# write your answer here\n",
        "a = 'google.com'\n",
        "count_all = {}\n",
        "for i in a:\n",
        "  if i in count_all:\n",
        "    count_all[i] += 1\n",
        "  else:\n",
        "     count_all[i] = 1\n",
        "\n",
        "print('The number of charaters in google.com is :\\n ' + str(count_all))\n"
      ]
    },
    {
      "cell_type": "markdown",
      "metadata": {
        "id": "55W9AMdXCSpV"
      },
      "source": [
        "(2) Write a Python program to sum all the items in a list. (6 points)"
      ]
    },
    {
      "cell_type": "code",
      "execution_count": null,
      "metadata": {
        "colab": {
          "base_uri": "https://localhost:8080/"
        },
        "id": "I57NXsauCec2",
        "outputId": "b6f1c6c5-2867-4b3a-a4d1-0c0b9c682af8"
      },
      "outputs": [
        {
          "output_type": "stream",
          "name": "stdout",
          "text": [
            "15\n"
          ]
        }
      ],
      "source": [
        "# write your answer here\n",
        "numbers = [1,2,3,4,5]\n",
        "sum = sum(numbers)\n",
        "print(sum)"
      ]
    },
    {
      "cell_type": "markdown",
      "metadata": {
        "id": "4ulBZ6yhCi9F"
      },
      "source": [
        "(3) Write a Python program to get a string from a given string where all occurrences of its first char have been changed to '\\$', except the first char itself. (6 points)\n",
        "\n",
        "Sample String : 'restart', \n",
        "\n",
        "Expected Result : 'resta\\$t'"
      ]
    },
    {
      "cell_type": "code",
      "execution_count": 4,
      "metadata": {
        "id": "Fj0XhwbBCw2o",
        "colab": {
          "base_uri": "https://localhost:8080/"
        },
        "outputId": "daf28def-ac5b-4ad3-cfcd-18b8da6854e1"
      },
      "outputs": [
        {
          "output_type": "stream",
          "name": "stdout",
          "text": [
            "resta$t\n"
          ]
        }
      ],
      "source": [
        "# write your answer here\n",
        "\n",
        "a = 'restart'\n",
        "def change_char(str1):\n",
        "  char=str1[0]\n",
        "  str1 = str1.replace(char, '$')\n",
        "  str1=char+str1[1:]\n",
        "\n",
        "  return str1\n",
        "\n",
        "print(change_char(a))\n"
      ]
    },
    {
      "cell_type": "markdown",
      "metadata": {
        "id": "_bIP7s1MCzue"
      },
      "source": [
        "(4) Write a program with python which could accept two parameter a and b to calculate and output the result of S, where \n",
        "\n",
        "$\\ S=3.14*(1+a/b)^3$ (6 points)\n",
        "\n"
      ]
    },
    {
      "cell_type": "code",
      "execution_count": 9,
      "metadata": {
        "id": "w79QilHXD3Mg",
        "colab": {
          "base_uri": "https://localhost:8080/"
        },
        "outputId": "2fbdbbec-1040-44ab-e78b-cfefaa3794f5"
      },
      "outputs": [
        {
          "output_type": "stream",
          "name": "stdout",
          "text": [
            "Please input number for a: 2\n",
            "Please input number for b: 3\n",
            "The out put of S=3.14*(1+a/b)**3 for the values you input is: 14.537037037037033\n"
          ]
        }
      ],
      "source": [
        "# write your answer here\n",
        "a=input('Please input number for a: ')\n",
        "a_num=float(a)\n",
        "b=input('Please input number for b: ')\n",
        "b_num=float(b)\n",
        "S=3.14*(1+a_num/b_num)**3\n",
        "print('The out put of S=3.14*(1+a/b)**3 for the values you input is:', S)\n"
      ]
    },
    {
      "cell_type": "markdown",
      "metadata": {
        "id": "xCa2bK9aD4Q3"
      },
      "source": [
        "(5) Write a Python program to concatenate following dictionaries to create a new one. (6 points)\n",
        "\n",
        "Sample Dictionary : dic1={1:10, 2:20}, dic2={3:30, 4:40}, dic3={5:50,6:60}, \n",
        "\n",
        "Expected Result : {1: 10, 2: 20, 3: 30, 4: 40, 5: 50, 6: 60}\n"
      ]
    },
    {
      "cell_type": "code",
      "execution_count": 16,
      "metadata": {
        "id": "_z4aLqAbEET1",
        "colab": {
          "base_uri": "https://localhost:8080/"
        },
        "outputId": "9e1973a7-01f8-48c3-e017-47a375f06c39"
      },
      "outputs": [
        {
          "output_type": "stream",
          "name": "stdout",
          "text": [
            "{1: 10, 2: 20, 3: 30, 4: 40, 5: 50, 6: 60}\n"
          ]
        }
      ],
      "source": [
        "# write your answer here\n",
        "dict1={1:10,2:20}\n",
        "dict2={3:30,4:40}\n",
        "dict3={5:50,6:60}\n",
        "dict4={**dict1,**dict2,**dict3}\n",
        "print(dict4)\n"
      ]
    },
    {
      "cell_type": "markdown",
      "metadata": {
        "id": "0v48Vqa7FrQh"
      },
      "source": [
        "(6) Write a Python program to check whether an element exists within a tuple. (6 points)"
      ]
    },
    {
      "cell_type": "code",
      "execution_count": 18,
      "metadata": {
        "id": "7WEmgq-DF2P1",
        "colab": {
          "base_uri": "https://localhost:8080/"
        },
        "outputId": "c229f20f-d262-4579-f970-552800621f82"
      },
      "outputs": [
        {
          "output_type": "stream",
          "name": "stdout",
          "text": [
            "True\n",
            "False\n"
          ]
        }
      ],
      "source": [
        "# write your answer here\n",
        "#define tuple\n",
        "tuple1=('a','b','c',1,2,3)\n",
        "print('a' in tuple1)\n",
        "print('x' in tuple1)"
      ]
    },
    {
      "cell_type": "markdown",
      "metadata": {
        "id": "vD5PYLMuGga_"
      },
      "source": [
        "(7) Write a Python program to find maximum and the minimum value in a set. (6 points)"
      ]
    },
    {
      "cell_type": "code",
      "execution_count": 20,
      "metadata": {
        "id": "t0D5kdJUGjjw",
        "colab": {
          "base_uri": "https://localhost:8080/"
        },
        "outputId": "9193055f-a259-484c-a30f-f6ae117c3b04"
      },
      "outputs": [
        {
          "output_type": "stream",
          "name": "stdout",
          "text": [
            "Maximum value is:  10000\n",
            "Minimum value is:  1\n"
          ]
        }
      ],
      "source": [
        "# write your answer here\n",
        "#create a set\n",
        "set1={1,10,100,1000,10000}\n",
        "print('Maximum value is: ',max(set1))\n",
        "print('Minimum value is: ',min(set1))"
      ]
    },
    {
      "cell_type": "markdown",
      "metadata": {
        "id": "8J0cBsSkFw6h"
      },
      "source": [
        "(8) Write a Python program to find the duplicate elements in a given array of integers. Return -1 If there are no such elements. (8 points)"
      ]
    },
    {
      "cell_type": "code",
      "execution_count": 24,
      "metadata": {
        "id": "7Lwn9o3AFw6h",
        "colab": {
          "base_uri": "https://localhost:8080/"
        },
        "outputId": "e8b50b7c-afd4-4263-e75e-9db020dd436f"
      },
      "outputs": [
        {
          "output_type": "stream",
          "name": "stdout",
          "text": [
            "1\n",
            "-1\n"
          ]
        }
      ],
      "source": [
        "# write your answer here\n",
        "array1=[1,1,2,2,3,3]\n",
        "array2=[1,2,3,4,5,6]\n",
        "\n",
        "def find_duplicates(nums):\n",
        "  num_set = set()\n",
        "  no_duplicate = -1\n",
        "\n",
        "  for i in range(len(nums)):\n",
        "\n",
        "    if nums[i] in num_set:\n",
        "      return nums[i]\n",
        "    else:\n",
        "      num_set.add(nums[i])\n",
        "    \n",
        "  return no_duplicate\n",
        "\n",
        "print(find_duplicates(array1))\n",
        "print(find_duplicates(array2))"
      ]
    }
  ],
  "metadata": {
    "colab": {
      "collapsed_sections": [],
      "name": "lab_assignment_01.ipynb",
      "provenance": [],
      "include_colab_link": true
    },
    "kernelspec": {
      "display_name": "Python 3 (ipykernel)",
      "language": "python",
      "name": "python3"
    },
    "language_info": {
      "codemirror_mode": {
        "name": "ipython",
        "version": 3
      },
      "file_extension": ".py",
      "mimetype": "text/x-python",
      "name": "python",
      "nbconvert_exporter": "python",
      "pygments_lexer": "ipython3",
      "version": "3.9.12"
    },
    "vscode": {
      "interpreter": {
        "hash": "5c6a7f839effdddf35473dacbb9a8184e57ebbba5133cab03b12e4f28d4f0d0f"
      }
    }
  },
  "nbformat": 4,
  "nbformat_minor": 0
}